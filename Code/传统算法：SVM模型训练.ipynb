{
 "cells": [
  {
   "cell_type": "code",
   "execution_count": 8,
   "metadata": {},
   "outputs": [],
   "source": [
    "import sys\n",
    "import numpy as np\n",
    "import pandas as pd\n",
    "import matplotlib.pyplot as plt\n",
    "from sklearn.preprocessing import StandardScaler#标准化数据\n",
    "from sklearn.model_selection import train_test_split#切分数据，交叉验证\n",
    "from imblearn.over_sampling import SMOTE\n",
    "from imblearn.combine import SMOTEENN,SMOTETomek\n",
    "from imblearn.over_sampling import RandomOverSampler\n",
    "from collections import Counter#查看样本"
   ]
  },
  {
   "cell_type": "code",
   "execution_count": 9,
   "metadata": {},
   "outputs": [],
   "source": [
    "#训练集合\n",
    "xtrain=np.load('./Treat_data/eigendata/train_data.npy')\n",
    "ytrain=np.load('./Treat_data/eigendata/train_label.npy')\n",
    "xtrain=xtrain[:,1:99]\n",
    "ytrain=ytrain[:,1:99]\n",
    "\n",
    "#测试集\n",
    "xtest=np.load('./Treat_data/eigendata/test_data.npy')\n",
    "ytest=np.load('./Treat_data/eigendata/test_label.npy')\n",
    "xtest=xtest[:,1:99]\n",
    "ytest=ytest[:,1:99]"
   ]
  },
  {
   "cell_type": "code",
   "execution_count": 12,
   "metadata": {},
   "outputs": [],
   "source": [
    "from sklearn import svm\n",
    "from sklearn import preprocessing\n",
    "from sklearn.svm import SVC\n",
    "from sklearn.model_selection import GridSearchCV\n",
    "from sklearn.metrics import classification_report\n",
    "def svc(X_train, y_train,X_test,y_test):\n",
    "    print(\"Start training SVM...\")\n",
    "    linearC=np.linspace(1,100,5)\n",
    "    rbfC=np.linspace(1,100,5)\n",
    "    tuned_parameters = [{'kernel': ['rbf'],'C': [0.1,1,10],'probability': [True, False],'verbose':[True, False] },\n",
    "                        {'kernel': ['linear'], 'C': [0.1,1,10],'probability': [True, False],'verbose':[True, False]}]\n",
    "\n",
    "    scores = ['precision']\n",
    "\n",
    "    for score in scores:\n",
    "        print(\"# Tuning hyper-parameters for %s\" % score)\n",
    "        print()\n",
    "\n",
    "        clf2 = GridSearchCV(\n",
    "            SVC(), tuned_parameters, scoring='%s_macro' % score,cv=5\n",
    "        )\n",
    "        clf2.fit(X_train, y_train)\n",
    "        \n",
    "        print(\"Best parameters set found on development set:\")\n",
    "        print()\n",
    "        print(clf2.best_params_)\n",
    "        print()\n",
    "        print(\"Grid scores on development set:\")\n",
    "        print()\n",
    "        means = clf2.cv_results_['mean_test_score']\n",
    "        stds = clf2.cv_results_['std_test_score']\n",
    "        for mean, std, params in zip(means, stds, clf2.cv_results_['params']):\n",
    "            print(\"%0.3f (+/-%0.03f) for %r\"\n",
    "                  % (mean, std * 2, params))\n",
    "        print()\n",
    "\n",
    "        print(\"Detailed classification report:\")\n",
    "        print()\n",
    "        print(\"The model is trained on the full development set.\")\n",
    "        print(\"The scores are computed on the full evaluation set.\")\n",
    "        print()\n",
    "        y_true, y_pred = y_test, clf2.predict(X_test)\n",
    "        print(classification_report(y_true, y_pred))\n",
    "        print()"
   ]
  },
  {
   "cell_type": "code",
   "execution_count": 13,
   "metadata": {},
   "outputs": [],
   "source": [
    "#分类器\n",
    "def faceclf(xtrain,ytrain,xtest,ytest,index):\n",
    "    sc = StandardScaler()\n",
    "    #训练集\n",
    "    sc.fit(xtrain)\n",
    "    Xtrain=sc.transform(xtrain)\n",
    "    Ytrain=ytrain[:,index].T\n",
    "    print(\"train data load successfully\")\n",
    "    #测试集\n",
    "    sc.fit(xtest)\n",
    "    Xtest=sc.transform(xtest)\n",
    "    Ytest=ytest[:,index].T\n",
    "    print(\"test data load successfully\")\n",
    "    #数据平衡\n",
    "    print(Counter(Ytrain))\n",
    "    smo =  SMOTETomek(random_state=0)\n",
    "    X_smo, y_smo = smo.fit_sample(Xtrain, Ytrain)\n",
    "    print(Counter(y_smo))\n",
    "    svc(X_smo, y_smo,Xtest,Ytest)"
   ]
  },
  {
   "cell_type": "code",
   "execution_count": 14,
   "metadata": {
    "scrolled": true
   },
   "outputs": [
    {
     "name": "stdout",
     "output_type": "stream",
     "text": [
      "train data load successfully\n",
      "test data load successfully\n",
      "Counter({1: 1150, 0: 847})\n"
     ]
    },
    {
     "name": "stderr",
     "output_type": "stream",
     "text": [
      "G:\\ML\\Anaconda\\Program_Data\\Anaconda3\\lib\\site-packages\\sklearn\\utils\\deprecation.py:87: FutureWarning: Function safe_indexing is deprecated; safe_indexing is deprecated in version 0.22 and will be removed in version 0.24.\n",
      "  warnings.warn(msg, category=FutureWarning)\n",
      "G:\\ML\\Anaconda\\Program_Data\\Anaconda3\\lib\\site-packages\\sklearn\\utils\\deprecation.py:87: FutureWarning: Function safe_indexing is deprecated; safe_indexing is deprecated in version 0.22 and will be removed in version 0.24.\n",
      "  warnings.warn(msg, category=FutureWarning)\n"
     ]
    },
    {
     "name": "stdout",
     "output_type": "stream",
     "text": [
      "Counter({1: 1135, 0: 1135})\n",
      "Start training SVM...\n",
      "# Tuning hyper-parameters for precision\n",
      "\n",
      "[LibSVM][LibSVM][LibSVM][LibSVM][LibSVM][LibSVM][LibSVM][LibSVM][LibSVM][LibSVM][LibSVM][LibSVM][LibSVM][LibSVM][LibSVM][LibSVM][LibSVM][LibSVM][LibSVM][LibSVM][LibSVM][LibSVM][LibSVM][LibSVM][LibSVM][LibSVM][LibSVM][LibSVM][LibSVM][LibSVM][LibSVM][LibSVM][LibSVM][LibSVM][LibSVM][LibSVM][LibSVM][LibSVM][LibSVM][LibSVM][LibSVM]Best parameters set found on development set:\n",
      "\n",
      "{'C': 10, 'kernel': 'rbf', 'probability': True, 'verbose': True}\n",
      "\n",
      "Grid scores on development set:\n",
      "\n",
      "0.785 (+/-0.199) for {'C': 1, 'kernel': 'rbf', 'probability': True, 'verbose': True}\n",
      "0.785 (+/-0.199) for {'C': 1, 'kernel': 'rbf', 'probability': True, 'verbose': False}\n",
      "0.785 (+/-0.199) for {'C': 1, 'kernel': 'rbf', 'probability': False, 'verbose': True}\n",
      "0.785 (+/-0.199) for {'C': 1, 'kernel': 'rbf', 'probability': False, 'verbose': False}\n",
      "0.795 (+/-0.203) for {'C': 10, 'kernel': 'rbf', 'probability': True, 'verbose': True}\n",
      "0.795 (+/-0.203) for {'C': 10, 'kernel': 'rbf', 'probability': True, 'verbose': False}\n",
      "0.795 (+/-0.203) for {'C': 10, 'kernel': 'rbf', 'probability': False, 'verbose': True}\n",
      "0.795 (+/-0.203) for {'C': 10, 'kernel': 'rbf', 'probability': False, 'verbose': False}\n",
      "0.753 (+/-0.212) for {'C': 1, 'kernel': 'linear', 'probability': True, 'verbose': True}\n",
      "0.753 (+/-0.212) for {'C': 1, 'kernel': 'linear', 'probability': True, 'verbose': False}\n",
      "0.753 (+/-0.212) for {'C': 1, 'kernel': 'linear', 'probability': False, 'verbose': True}\n",
      "0.753 (+/-0.212) for {'C': 1, 'kernel': 'linear', 'probability': False, 'verbose': False}\n",
      "0.752 (+/-0.214) for {'C': 10, 'kernel': 'linear', 'probability': True, 'verbose': True}\n",
      "0.752 (+/-0.214) for {'C': 10, 'kernel': 'linear', 'probability': True, 'verbose': False}\n",
      "0.752 (+/-0.214) for {'C': 10, 'kernel': 'linear', 'probability': False, 'verbose': True}\n",
      "0.752 (+/-0.214) for {'C': 10, 'kernel': 'linear', 'probability': False, 'verbose': False}\n",
      "\n",
      "Detailed classification report:\n",
      "\n",
      "The model is trained on the full development set.\n",
      "The scores are computed on the full evaluation set.\n",
      "\n",
      "              precision    recall  f1-score   support\n",
      "\n",
      "           0       0.64      0.57      0.61       719\n",
      "           1       0.77      0.82      0.80      1277\n",
      "\n",
      "    accuracy                           0.73      1996\n",
      "   macro avg       0.71      0.70      0.70      1996\n",
      "weighted avg       0.73      0.73      0.73      1996\n",
      "\n",
      "\n"
     ]
    }
   ],
   "source": [
    "#性别分类\n",
    "faceclf(xtrain,ytrain,xtest,ytest,0)"
   ]
  },
  {
   "cell_type": "code",
   "execution_count": 8,
   "metadata": {},
   "outputs": [
    {
     "name": "stdout",
     "output_type": "stream",
     "text": [
      "train data load successfully\n",
      "test data load successfully\n",
      "Counter({1: 1150, 0: 847})\n"
     ]
    },
    {
     "name": "stderr",
     "output_type": "stream",
     "text": [
      "G:\\ML\\Anaconda\\Program_Data\\Anaconda3\\lib\\site-packages\\sklearn\\utils\\deprecation.py:87: FutureWarning: Function safe_indexing is deprecated; safe_indexing is deprecated in version 0.22 and will be removed in version 0.24.\n",
      "  warnings.warn(msg, category=FutureWarning)\n",
      "G:\\ML\\Anaconda\\Program_Data\\Anaconda3\\lib\\site-packages\\sklearn\\utils\\deprecation.py:87: FutureWarning: Function safe_indexing is deprecated; safe_indexing is deprecated in version 0.22 and will be removed in version 0.24.\n",
      "  warnings.warn(msg, category=FutureWarning)\n"
     ]
    },
    {
     "name": "stdout",
     "output_type": "stream",
     "text": [
      "Counter({1: 1135, 0: 1135})\n",
      "[0.54185022 0.81277533 0.84361233 0.88325991 0.81277533]\n"
     ]
    }
   ],
   "source": [
    "from sklearn.model_selection import cross_val_score\n",
    "from sklearn.svm import SVC\n",
    "clf = SVC(C=50.5, gamma=0.001, kernel='rbf')\n",
    "sc = StandardScaler()\n",
    "#训练集\n",
    "sc.fit(xtrain)\n",
    "Xtrain=sc.transform(xtrain)\n",
    "Ytrain=ytrain[:,0].T\n",
    "print(\"train data load successfully\")\n",
    "#测试集\n",
    "sc.fit(xtest)\n",
    "Xtest=sc.transform(xtest)\n",
    "Ytest=ytest[:,0].T\n",
    "print(\"test data load successfully\")\n",
    "#数据平衡\n",
    "print(Counter(Ytrain))\n",
    "smo =  SMOTETomek(random_state=0)\n",
    "X_smo, y_smo = smo.fit_sample(Xtrain, Ytrain)\n",
    "print(Counter(y_smo))\n",
    "scores = cross_val_score(clf, X_smo, y_smo, cv=5)\n",
    "print(scores)"
   ]
  },
  {
   "cell_type": "code",
   "execution_count": 15,
   "metadata": {
    "scrolled": true
   },
   "outputs": [
    {
     "name": "stdout",
     "output_type": "stream",
     "text": [
      "train data load successfully\n",
      "test data load successfully\n",
      "Counter({2: 1438, 1: 261, 0: 244, 3: 54})\n"
     ]
    },
    {
     "name": "stderr",
     "output_type": "stream",
     "text": [
      "G:\\ML\\Anaconda\\Program_Data\\Anaconda3\\lib\\site-packages\\sklearn\\utils\\deprecation.py:87: FutureWarning: Function safe_indexing is deprecated; safe_indexing is deprecated in version 0.22 and will be removed in version 0.24.\n",
      "  warnings.warn(msg, category=FutureWarning)\n",
      "G:\\ML\\Anaconda\\Program_Data\\Anaconda3\\lib\\site-packages\\sklearn\\utils\\deprecation.py:87: FutureWarning: Function safe_indexing is deprecated; safe_indexing is deprecated in version 0.22 and will be removed in version 0.24.\n",
      "  warnings.warn(msg, category=FutureWarning)\n",
      "G:\\ML\\Anaconda\\Program_Data\\Anaconda3\\lib\\site-packages\\sklearn\\utils\\deprecation.py:87: FutureWarning: Function safe_indexing is deprecated; safe_indexing is deprecated in version 0.22 and will be removed in version 0.24.\n",
      "  warnings.warn(msg, category=FutureWarning)\n",
      "G:\\ML\\Anaconda\\Program_Data\\Anaconda3\\lib\\site-packages\\sklearn\\utils\\deprecation.py:87: FutureWarning: Function safe_indexing is deprecated; safe_indexing is deprecated in version 0.22 and will be removed in version 0.24.\n",
      "  warnings.warn(msg, category=FutureWarning)\n"
     ]
    },
    {
     "name": "stdout",
     "output_type": "stream",
     "text": [
      "Counter({0: 1438, 2: 1438, 1: 1438, 3: 1438})\n",
      "Start training SVM...\n",
      "# Tuning hyper-parameters for precision\n",
      "\n",
      "[LibSVM][LibSVM][LibSVM][LibSVM][LibSVM][LibSVM][LibSVM][LibSVM][LibSVM][LibSVM][LibSVM][LibSVM][LibSVM][LibSVM][LibSVM][LibSVM][LibSVM][LibSVM][LibSVM][LibSVM][LibSVM][LibSVM][LibSVM][LibSVM][LibSVM][LibSVM][LibSVM][LibSVM][LibSVM][LibSVM][LibSVM][LibSVM][LibSVM][LibSVM][LibSVM][LibSVM][LibSVM][LibSVM][LibSVM][LibSVM][LibSVM]Best parameters set found on development set:\n",
      "\n",
      "{'C': 10, 'kernel': 'rbf', 'probability': True, 'verbose': True}\n",
      "\n",
      "Grid scores on development set:\n",
      "\n",
      "0.971 (+/-0.083) for {'C': 1, 'kernel': 'rbf', 'probability': True, 'verbose': True}\n",
      "0.971 (+/-0.083) for {'C': 1, 'kernel': 'rbf', 'probability': True, 'verbose': False}\n",
      "0.971 (+/-0.083) for {'C': 1, 'kernel': 'rbf', 'probability': False, 'verbose': True}\n",
      "0.971 (+/-0.083) for {'C': 1, 'kernel': 'rbf', 'probability': False, 'verbose': False}\n",
      "0.976 (+/-0.071) for {'C': 10, 'kernel': 'rbf', 'probability': True, 'verbose': True}\n",
      "0.976 (+/-0.071) for {'C': 10, 'kernel': 'rbf', 'probability': True, 'verbose': False}\n",
      "0.976 (+/-0.071) for {'C': 10, 'kernel': 'rbf', 'probability': False, 'verbose': True}\n",
      "0.976 (+/-0.071) for {'C': 10, 'kernel': 'rbf', 'probability': False, 'verbose': False}\n",
      "0.908 (+/-0.070) for {'C': 1, 'kernel': 'linear', 'probability': True, 'verbose': True}\n",
      "0.908 (+/-0.070) for {'C': 1, 'kernel': 'linear', 'probability': True, 'verbose': False}\n",
      "0.908 (+/-0.070) for {'C': 1, 'kernel': 'linear', 'probability': False, 'verbose': True}\n",
      "0.908 (+/-0.070) for {'C': 1, 'kernel': 'linear', 'probability': False, 'verbose': False}\n",
      "0.906 (+/-0.070) for {'C': 10, 'kernel': 'linear', 'probability': True, 'verbose': True}\n",
      "0.906 (+/-0.070) for {'C': 10, 'kernel': 'linear', 'probability': True, 'verbose': False}\n",
      "0.906 (+/-0.070) for {'C': 10, 'kernel': 'linear', 'probability': False, 'verbose': True}\n",
      "0.906 (+/-0.070) for {'C': 10, 'kernel': 'linear', 'probability': False, 'verbose': False}\n",
      "\n",
      "Detailed classification report:\n",
      "\n",
      "The model is trained on the full development set.\n",
      "The scores are computed on the full evaluation set.\n",
      "\n",
      "              precision    recall  f1-score   support\n",
      "\n",
      "           0       0.14      0.12      0.13        68\n",
      "           1       0.05      0.04      0.04        83\n",
      "           2       0.87      0.94      0.91      1730\n",
      "           3       0.67      0.02      0.03       115\n",
      "\n",
      "    accuracy                           0.82      1996\n",
      "   macro avg       0.43      0.28      0.28      1996\n",
      "weighted avg       0.80      0.82      0.79      1996\n",
      "\n",
      "\n"
     ]
    }
   ],
   "source": [
    "#年龄\n",
    "faceclf(xtrain,ytrain,xtest,ytest,1)"
   ]
  },
  {
   "cell_type": "code",
   "execution_count": 9,
   "metadata": {},
   "outputs": [
    {
     "name": "stdout",
     "output_type": "stream",
     "text": [
      "train data load successfully\n",
      "test data load successfully\n",
      "Counter({2: 1438, 1: 261, 0: 244, 3: 54})\n"
     ]
    },
    {
     "name": "stderr",
     "output_type": "stream",
     "text": [
      "G:\\ML\\Anaconda\\Program_Data\\Anaconda3\\lib\\site-packages\\sklearn\\utils\\deprecation.py:87: FutureWarning: Function safe_indexing is deprecated; safe_indexing is deprecated in version 0.22 and will be removed in version 0.24.\n",
      "  warnings.warn(msg, category=FutureWarning)\n",
      "G:\\ML\\Anaconda\\Program_Data\\Anaconda3\\lib\\site-packages\\sklearn\\utils\\deprecation.py:87: FutureWarning: Function safe_indexing is deprecated; safe_indexing is deprecated in version 0.22 and will be removed in version 0.24.\n",
      "  warnings.warn(msg, category=FutureWarning)\n",
      "G:\\ML\\Anaconda\\Program_Data\\Anaconda3\\lib\\site-packages\\sklearn\\utils\\deprecation.py:87: FutureWarning: Function safe_indexing is deprecated; safe_indexing is deprecated in version 0.22 and will be removed in version 0.24.\n",
      "  warnings.warn(msg, category=FutureWarning)\n",
      "G:\\ML\\Anaconda\\Program_Data\\Anaconda3\\lib\\site-packages\\sklearn\\utils\\deprecation.py:87: FutureWarning: Function safe_indexing is deprecated; safe_indexing is deprecated in version 0.22 and will be removed in version 0.24.\n",
      "  warnings.warn(msg, category=FutureWarning)\n"
     ]
    },
    {
     "name": "stdout",
     "output_type": "stream",
     "text": [
      "Counter({0: 1438, 2: 1438, 1: 1438, 3: 1438})\n",
      "[0.87662902 0.98696785 0.98608696 0.97217391 0.96347826]\n"
     ]
    }
   ],
   "source": [
    "from sklearn.model_selection import cross_val_score\n",
    "from sklearn.svm import SVC\n",
    "clf = SVC(C=100.0, gamma=0.001, kernel='rbf')\n",
    "sc = StandardScaler()\n",
    "#训练集\n",
    "sc.fit(xtrain)\n",
    "Xtrain=sc.transform(xtrain)\n",
    "Ytrain=ytrain[:,1].T\n",
    "print(\"train data load successfully\")\n",
    "#测试集\n",
    "sc.fit(xtest)\n",
    "Xtest=sc.transform(xtest)\n",
    "Ytest=ytest[:,1].T\n",
    "print(\"test data load successfully\")\n",
    "#数据平衡\n",
    "print(Counter(Ytrain))\n",
    "smo =  SMOTETomek(random_state=0)\n",
    "X_smo, y_smo = smo.fit_sample(Xtrain, Ytrain)\n",
    "print(Counter(y_smo))\n",
    "scores = cross_val_score(clf, X_smo, y_smo, cv=5)\n",
    "print(scores)"
   ]
  },
  {
   "cell_type": "code",
   "execution_count": 9,
   "metadata": {},
   "outputs": [
    {
     "name": "stdout",
     "output_type": "stream",
     "text": [
      "train data load successfully\n",
      "test data load successfully\n",
      "Counter({0: 1043, 2: 917, 1: 37})\n"
     ]
    },
    {
     "name": "stderr",
     "output_type": "stream",
     "text": [
      "G:\\ML\\Anaconda\\Program_Data\\Anaconda3\\lib\\site-packages\\sklearn\\utils\\deprecation.py:87: FutureWarning: Function safe_indexing is deprecated; safe_indexing is deprecated in version 0.22 and will be removed in version 0.24.\n",
      "  warnings.warn(msg, category=FutureWarning)\n",
      "G:\\ML\\Anaconda\\Program_Data\\Anaconda3\\lib\\site-packages\\sklearn\\utils\\deprecation.py:87: FutureWarning: Function safe_indexing is deprecated; safe_indexing is deprecated in version 0.22 and will be removed in version 0.24.\n",
      "  warnings.warn(msg, category=FutureWarning)\n",
      "G:\\ML\\Anaconda\\Program_Data\\Anaconda3\\lib\\site-packages\\sklearn\\utils\\deprecation.py:87: FutureWarning: Function safe_indexing is deprecated; safe_indexing is deprecated in version 0.22 and will be removed in version 0.24.\n",
      "  warnings.warn(msg, category=FutureWarning)\n"
     ]
    },
    {
     "name": "stdout",
     "output_type": "stream",
     "text": [
      "Counter({1: 1043, 0: 932, 2: 932})\n",
      "Start training SVM...\n",
      "# Tuning hyper-parameters for precision\n",
      "\n",
      "Best parameters set found on development set:\n",
      "\n",
      "{'C': 50.5, 'gamma': 0.001, 'kernel': 'rbf'}\n",
      "\n",
      "Grid scores on development set:\n",
      "\n",
      "0.714 (+/-0.030) for {'C': 1.0, 'gamma': 0.001, 'kernel': 'rbf'}\n",
      "0.580 (+/-0.079) for {'C': 1.0, 'gamma': 0.0001, 'kernel': 'rbf'}\n",
      "0.826 (+/-0.048) for {'C': 25.75, 'gamma': 0.001, 'kernel': 'rbf'}\n",
      "0.740 (+/-0.044) for {'C': 25.75, 'gamma': 0.0001, 'kernel': 'rbf'}\n",
      "0.830 (+/-0.057) for {'C': 50.5, 'gamma': 0.001, 'kernel': 'rbf'}\n",
      "0.760 (+/-0.056) for {'C': 50.5, 'gamma': 0.0001, 'kernel': 'rbf'}\n",
      "0.825 (+/-0.067) for {'C': 75.25, 'gamma': 0.001, 'kernel': 'rbf'}\n",
      "0.764 (+/-0.061) for {'C': 75.25, 'gamma': 0.0001, 'kernel': 'rbf'}\n",
      "0.827 (+/-0.068) for {'C': 100.0, 'gamma': 0.001, 'kernel': 'rbf'}\n",
      "0.770 (+/-0.068) for {'C': 100.0, 'gamma': 0.0001, 'kernel': 'rbf'}\n",
      "0.802 (+/-0.064) for {'C': 1.0, 'kernel': 'linear'}\n",
      "0.803 (+/-0.073) for {'C': 25.75, 'kernel': 'linear'}\n",
      "0.802 (+/-0.075) for {'C': 50.5, 'kernel': 'linear'}\n",
      "0.803 (+/-0.073) for {'C': 75.25, 'kernel': 'linear'}\n",
      "0.803 (+/-0.075) for {'C': 100.0, 'kernel': 'linear'}\n",
      "\n",
      "Detailed classification report:\n",
      "\n",
      "The model is trained on the full development set.\n",
      "The scores are computed on the full evaluation set.\n",
      "\n",
      "              precision    recall  f1-score   support\n",
      "\n",
      "           0       0.72      0.80      0.76       836\n",
      "           1       0.15      0.30      0.20        63\n",
      "           2       0.84      0.71      0.77      1097\n",
      "\n",
      "    accuracy                           0.74      1996\n",
      "   macro avg       0.57      0.60      0.58      1996\n",
      "weighted avg       0.76      0.74      0.75      1996\n",
      "\n",
      "\n"
     ]
    }
   ],
   "source": [
    "#面部表情\n",
    "faceclf(xtrain,ytrain,xtest,ytest,3)"
   ]
  },
  {
   "cell_type": "code",
   "execution_count": null,
   "metadata": {},
   "outputs": [],
   "source": []
  }
 ],
 "metadata": {
  "kernelspec": {
   "display_name": "Python 3",
   "language": "python",
   "name": "python3"
  },
  "language_info": {
   "codemirror_mode": {
    "name": "ipython",
    "version": 3
   },
   "file_extension": ".py",
   "mimetype": "text/x-python",
   "name": "python",
   "nbconvert_exporter": "python",
   "pygments_lexer": "ipython3",
   "version": "3.7.1"
  }
 },
 "nbformat": 4,
 "nbformat_minor": 2
}
